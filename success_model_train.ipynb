{
 "cells": [
  {
   "cell_type": "code",
   "execution_count": 2,
   "metadata": {},
   "outputs": [
    {
     "name": "stdout",
     "output_type": "stream",
     "text": [
      "category             1\n",
      "size              1541\n",
      "type                 2\n",
      "price                1\n",
      "content rating       1\n",
      "genres               1\n",
      "current ver          8\n",
      "android ver          3\n",
      "sentiment         8823\n",
      "dtype: int64\n",
      "              precision    recall  f1-score   support\n",
      "\n",
      "           0       0.78      0.85      0.81      1682\n",
      "           1       0.76      0.66      0.71      1210\n",
      "\n",
      "    accuracy                           0.77      2892\n",
      "   macro avg       0.77      0.76      0.76      2892\n",
      "weighted avg       0.77      0.77      0.77      2892\n",
      "\n"
     ]
    }
   ],
   "source": [
    "import pandas as pd\n",
    "from sklearn.model_selection import train_test_split\n",
    "from sklearn.preprocessing import StandardScaler, OneHotEncoder\n",
    "from sklearn.compose import ColumnTransformer\n",
    "from sklearn.pipeline import Pipeline\n",
    "from sklearn.impute import SimpleImputer\n",
    "from sklearn.ensemble import RandomForestClassifier\n",
    "from sklearn.metrics import classification_report\n",
    "\n",
    "# Load your data\n",
    "data = pd.read_csv('csv/df_merged_cleaned.csv')\n",
    "\n",
    "# Define success based on downloads\n",
    "data['success'] = (data['installs'] > 100000).astype(int)\n",
    "\n",
    "# Define features and target variable\n",
    "features = ['category', 'size', 'type', 'price', 'content rating', 'genres', 'current ver', 'android ver', 'sentiment']\n",
    "target = 'success'\n",
    "\n",
    "# Prepare data\n",
    "X = data[features]\n",
    "y = data[target]\n",
    "\n",
    "# Identify missing values\n",
    "print(X.isna().sum())\n",
    "\n",
    "# Handle missing values\n",
    "# For numerical features, you can use SimpleImputer to fill missing values with the median\n",
    "numeric_features = ['size', 'price']\n",
    "categorical_features = ['category', 'type', 'content rating', 'genres', 'current ver', 'android ver', 'sentiment']\n",
    "\n",
    "# Create a column transformer with imputers\n",
    "preprocessor = ColumnTransformer(\n",
    "    transformers=[\n",
    "        ('num', Pipeline(steps=[\n",
    "            ('imputer', SimpleImputer(strategy='median')),  # Impute missing values for numeric features\n",
    "            ('scaler', StandardScaler())  # Normalize numeric features\n",
    "        ]), numeric_features),\n",
    "        ('cat', Pipeline(steps=[\n",
    "            ('imputer', SimpleImputer(strategy='most_frequent')),  # Impute missing values for categorical features\n",
    "            ('encoder', OneHotEncoder(handle_unknown='ignore'))  # Encode categorical features\n",
    "        ]), categorical_features)\n",
    "    ])\n",
    "\n",
    "# Create a pipeline\n",
    "model = Pipeline(steps=[\n",
    "    ('preprocessor', preprocessor),\n",
    "    ('classifier', RandomForestClassifier())\n",
    "])\n",
    "\n",
    "# Split data\n",
    "X_train, X_test, y_train, y_test = train_test_split(X, y, test_size=0.3, random_state=42)\n",
    "\n",
    "# Train the model\n",
    "model.fit(X_train, y_train)\n",
    "\n",
    "# Make predictions\n",
    "y_pred = model.predict(X_test)\n",
    "\n",
    "# Evaluate the model\n",
    "print(classification_report(y_test, y_pred))\n"
   ]
  },
  {
   "cell_type": "markdown",
   "metadata": {},
   "source": [
    "## Interpreting Results\n",
    "* Class 0 (Not Successful):\n",
    "The model performs better in terms of recall (86%), meaning it identifies a higher proportion of true negatives (non-successful apps). However, precision is slightly lower at 78%, indicating some false positives.\n",
    "* Class 1 (Successful):\n",
    "The model has lower recall (66%) for successful apps, meaning it identifies fewer true positives. Precision is also slightly lower at 77%, suggesting some false positives in predictions of success.\n",
    "* Accuracy:\n",
    "An accuracy of 78% is decent, but it might not reflect the model’s performance well if there is a class imbalance (i.e., if one class is much more frequent than the other).\n",
    "Balanced Performance:\n",
    "* The F1-score for class 0 is higher than for class 1, indicating that the model performs better in identifying non-successful apps. Improving recall for class 1 could be beneficial."
   ]
  }
 ],
 "metadata": {
  "kernelspec": {
   "display_name": "base",
   "language": "python",
   "name": "python3"
  },
  "language_info": {
   "codemirror_mode": {
    "name": "ipython",
    "version": 3
   },
   "file_extension": ".py",
   "mimetype": "text/x-python",
   "name": "python",
   "nbconvert_exporter": "python",
   "pygments_lexer": "ipython3",
   "version": "3.12.2"
  }
 },
 "nbformat": 4,
 "nbformat_minor": 2
}
