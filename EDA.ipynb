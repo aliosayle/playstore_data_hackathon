{
 "cells": [
  {
   "cell_type": "code",
   "execution_count": 578,
   "metadata": {},
   "outputs": [],
   "source": [
    "import pandas as pd\n",
    "import numpy as np\n",
    "df_reviews=pd.read_csv('googleplaystore_user_reviews.csv')\n",
    "df_playstore=pd.read_csv('googleplaystore.csv')"
   ]
  },
  {
   "cell_type": "code",
   "execution_count": 579,
   "metadata": {},
   "outputs": [],
   "source": [
    "def clean_text(df):\n",
    "\n",
    "    df.columns = df.columns.str.lower()\n",
    "    str_columns = df.select_dtypes(include='object').columns\n",
    "    \n",
    "    for col in str_columns:\n",
    "        df[col] = df[col].str.lower().str.replace(' ', '_')\n",
    "    \n",
    "    return df\n",
    "df_playstore=clean_text(df_playstore)"
   ]
  },
  {
   "cell_type": "code",
   "execution_count": 580,
   "metadata": {},
   "outputs": [],
   "source": [
    "def replace_dates_with_nan(value):\n",
    "    if isinstance(value, str):\n",
    "        cleaned_value = value.replace('_', ' ').replace(',', '')\n",
    "        try:\n",
    "            parsed_date = pd.to_datetime(cleaned_value, format='%B %d %Y', errors='raise')\n",
    "            return np.nan  \n",
    "        except ValueError:\n",
    "            return value\n",
    "    return value"
   ]
  },
  {
   "cell_type": "code",
   "execution_count": 581,
   "metadata": {},
   "outputs": [],
   "source": [
    "def convert_float(number, characters):\n",
    "    try:\n",
    "        for char in characters:\n",
    "            number = number.replace(char, '')\n",
    "        return float(number)\n",
    "    except ValueError:\n",
    "        return float('nan')\n",
    "\n",
    "def convert_column_to_float(df, column_name, characters):\n",
    "    df[column_name] = df[column_name].apply(lambda x: convert_float(x, characters))\n",
    "    return df\n",
    "\n",
    "df_playstore = convert_column_to_float(df_playstore, 'price', ['$'])\n",
    "df_playstore=convert_column_to_float(df_playstore,'size',['m'])\n",
    "df_playstore=convert_column_to_float(df_playstore,'installs',[',','+'])\n",
    "df_playstore=convert_column_to_float(df_playstore,'reviews',[])"
   ]
  },
  {
   "cell_type": "code",
   "execution_count": 582,
   "metadata": {},
   "outputs": [],
   "source": [
    "def isFloat(str):\n",
    "    try:\n",
    "        float(str)\n",
    "        return True\n",
    "    except ValueError:\n",
    "        return False"
   ]
  },
  {
   "cell_type": "code",
   "execution_count": 583,
   "metadata": {},
   "outputs": [],
   "source": [
    "def remove_digit(string):\n",
    "    isinstance(5, int)\n",
    "    if string.isdigit() or isFloat(string):\n",
    "        string=''\n",
    "    return string\n",
    "df_playstore['category'] = df_playstore['category'].apply(remove_digit)\n",
    "df_playstore['app']=df_playstore['app'].apply(remove_digit)\n",
    "df_playstore['genres']=df_playstore['genres'].apply(remove_digit)"
   ]
  },
  {
   "cell_type": "code",
   "execution_count": 584,
   "metadata": {},
   "outputs": [],
   "source": [
    "def normalize_and_encode_ratings(df,column_name):    \n",
    "    rating_labels = {\n",
    "        'unrated': 0,\n",
    "        'everyone': 1,\n",
    "        'everyone_10+': 2,\n",
    "        'teen': 3,\n",
    "        'mature_17+': 4,\n",
    "        'adults_only_18+': 5\n",
    "    }\n",
    "    df['rating_label'] = df[column_name].map(rating_labels).fillna(-1)\n",
    "    df['rating_label']=df['rating_label'].astype('int')\n",
    "    return df\n",
    "df_playstore=normalize_and_encode_ratings(df_playstore,'content rating')\n"
   ]
  },
  {
   "cell_type": "code",
   "execution_count": 585,
   "metadata": {},
   "outputs": [],
   "source": [
    "def clean_date(date_str):\n",
    "    try:\n",
    "        cleaned_date = date_str.replace('_', ' ').replace(',', '')\n",
    "        return pd.to_datetime(cleaned_date, format='%B %d %Y', errors='coerce')\n",
    "    except Exception as e:\n",
    "        print(f\"Error processing date: {date_str} - {e}\")\n",
    "        return pd.NaT \n",
    "\n",
    "df_playstore['last updated'] = df_playstore['last updated'].apply(clean_date)"
   ]
  },
  {
   "cell_type": "code",
   "execution_count": 586,
   "metadata": {},
   "outputs": [],
   "source": [
    "def replace_dates_with_null(df, column, months_list):\n",
    "    months_list = [month.lower() for month in months_list]\n",
    "\n",
    "    def contains_month(value):\n",
    "        if isinstance(value, str):  \n",
    "            value_lower = value.lower()\n",
    "            for month in months_list:\n",
    "                if month in value_lower:\n",
    "                        return np.nan \n",
    "        return value  \n",
    "                            \n",
    "    df[column] = df[column].apply(contains_month)\n",
    "                            \n",
    "    return df\n",
    "df_playstore=replace_dates_with_null(df_playstore,'genres',months_list = [\"january\", \"february\", \"march\", \"april\", \"may\", \"june\", \"july\", \"august\", \"september\", \"october\", \"november\", \"december\"])"
   ]
  },
  {
   "cell_type": "code",
   "execution_count": 587,
   "metadata": {},
   "outputs": [],
   "source": [
    "def map_type_in_place(df, type_col):\n",
    "\n",
    "    type_mapping = {'free': 0, 'paid': 1}\n",
    "    df[type_col] = df[type_col].map(type_mapping)\n",
    "\n",
    "map_type_in_place(df_playstore, 'type')\n",
    "df_playstore.drop(df_playstore[df_playstore['type'] == '0'].index, inplace=True)"
   ]
  },
  {
   "cell_type": "code",
   "execution_count": 588,
   "metadata": {},
   "outputs": [],
   "source": [
    "def remove_duplicates(df):\n",
    "    df= df.drop_duplicates()\n",
    "    return df\n",
    "df_playstore=remove_duplicates(df_playstore)"
   ]
  },
  {
   "cell_type": "code",
   "execution_count": 589,
   "metadata": {},
   "outputs": [],
   "source": [
    "def create_app_id_column(df, app_name_col, new_id_col):\n",
    "    unique_app_names = df[app_name_col].unique()\n",
    "    app_id_mapping = {app_name: idx + 1 for idx, app_name in enumerate(unique_app_names)}\n",
    "    df[new_id_col] = df[app_name_col].map(app_id_mapping)\n",
    "    cols = [new_id_col] + [col for col in df.columns if col not in [new_id_col]]\n",
    "    df = df[cols]\n",
    "    return df\n",
    "df_playstore=create_app_id_column(df_playstore,'app','app_id')"
   ]
  },
  {
   "cell_type": "code",
   "execution_count": 592,
   "metadata": {},
   "outputs": [],
   "source": [
    "def encode_categorical(df, columns, encoding_type='label'):\n",
    "    if encoding_type not in ['label', 'onehot']:\n",
    "        raise ValueError(\"encoding_type must be 'label' or 'onehot'\")\n",
    "    \n",
    "    df_encoded = df.copy()\n",
    "    \n",
    "    for column in columns:\n",
    "        if column not in df_encoded.columns:\n",
    "            raise ValueError(f\"Column {column} not found in DataFrame\")\n",
    "        \n",
    "        if encoding_type == 'label':\n",
    "            df_encoded[column] = df_encoded[column].astype('category').cat.codes\n",
    "        elif encoding_type == 'onehot':\n",
    "            df_encoded = pd.get_dummies(df_encoded, columns=[column], drop_first=True)\n",
    "    \n",
    "    return df_encoded\n",
    "df_encoded_label = encode_categorical(df_playstore, columns=['category'], encoding_type='onehot')"
   ]
  },
  {
   "cell_type": "code",
   "execution_count": 596,
   "metadata": {},
   "outputs": [],
   "source": [
    "from sklearn.preprocessing import StandardScaler, MinMaxScaler\n",
    "\n",
    "def scale_numerical_features(df, columns, scaling_type='standardize'):\n",
    "\n",
    "    if scaling_type not in ['standardize', 'normalize']:\n",
    "        raise ValueError(\"scaling_type must be 'standardize' or 'normalize'\")\n",
    "    \n",
    "    df_scaled = df.copy()\n",
    "    \n",
    "    if scaling_type == 'standardize':\n",
    "        scaler = StandardScaler()\n",
    "    elif scaling_type == 'normalize':\n",
    "        scaler = MinMaxScaler()\n",
    "    \n",
    "\n",
    "    df_scaled[columns] = scaler.fit_transform(df_scaled[columns])\n",
    "    \n",
    "    return df_scaled\n"
   ]
  }
 ],
 "metadata": {
  "kernelspec": {
   "display_name": "Python 3",
   "language": "python",
   "name": "python3"
  },
  "language_info": {
   "codemirror_mode": {
    "name": "ipython",
    "version": 3
   },
   "file_extension": ".py",
   "mimetype": "text/x-python",
   "name": "python",
   "nbconvert_exporter": "python",
   "pygments_lexer": "ipython3",
   "version": "3.12.4"
  }
 },
 "nbformat": 4,
 "nbformat_minor": 2
}
